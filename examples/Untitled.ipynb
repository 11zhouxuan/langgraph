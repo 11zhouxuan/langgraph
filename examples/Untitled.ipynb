{
 "cells": [
  {
   "cell_type": "code",
   "execution_count": 1,
   "id": "2589ed8b-a781-45cc-aeb6-0eebb6469100",
   "metadata": {},
   "outputs": [],
   "source": [
    "from langchain.hub import pull"
   ]
  },
  {
   "cell_type": "code",
   "execution_count": 2,
   "id": "de600f76-dd51-415f-afae-f8574cb6f99e",
   "metadata": {},
   "outputs": [
    {
     "name": "stdout",
     "output_type": "stream",
     "text": [
      "<frame at 0x1057c46c0, file '/Users/nuno/dev/permchain/.venv/lib/python3.11/site-packages/langchain/hub.py', line 81, code pull> <module 'langchain.hub' from '/Users/nuno/dev/permchain/.venv/lib/python3.11/site-packages/langchain/hub.py'>\n"
     ]
    }
   ],
   "source": [
    "pull('homanp/superagent')"
   ]
  },
  {
   "cell_type": "code",
   "execution_count": 3,
   "id": "b4831d38-7bb1-49a2-9efa-802adc24110f",
   "metadata": {},
   "outputs": [],
   "source": [
    "from langchain.load import loads"
   ]
  },
  {
   "cell_type": "code",
   "execution_count": 4,
   "id": "2ef796f9-7b34-462e-acb6-25cd116b9045",
   "metadata": {},
   "outputs": [
    {
     "name": "stderr",
     "output_type": "stream",
     "text": [
      "/Users/nuno/dev/langchain/libs/core/langchain_core/_api/beta_decorator.py:162: LangChainBetaWarning: The function `loads` is in beta. It is actively being worked on, so the API may change.\n",
      "  warn_beta(\n"
     ]
    },
    {
     "data": {
      "text/plain": [
       "{}"
      ]
     },
     "execution_count": 4,
     "metadata": {},
     "output_type": "execute_result"
    }
   ],
   "source": [
    "loads('{}')"
   ]
  },
  {
   "cell_type": "code",
   "execution_count": 5,
   "id": "4b6d8788-0b6f-4bd6-b6cf-e2e4e80f4707",
   "metadata": {},
   "outputs": [],
   "source": [
    "from langchain_core.beta.runnables.context import ContextGet"
   ]
  },
  {
   "cell_type": "code",
   "execution_count": 6,
   "id": "6975707d-58eb-4642-9618-76e37cdeb5e1",
   "metadata": {},
   "outputs": [
    {
     "name": "stderr",
     "output_type": "stream",
     "text": [
      "/Users/nuno/dev/langchain/libs/core/langchain_core/_api/beta_decorator.py:162: LangChainBetaWarning: The class `ContextGet` is in beta. It is actively being worked on, so the API may change.\n",
      "  warn_beta(\n"
     ]
    },
    {
     "data": {
      "text/plain": [
       "ContextGet(key='hello')"
      ]
     },
     "execution_count": 6,
     "metadata": {},
     "output_type": "execute_result"
    }
   ],
   "source": [
    "ContextGet(key='hello')"
   ]
  },
  {
   "cell_type": "code",
   "execution_count": null,
   "id": "1977eda2-4c4a-4bb0-886a-fe274599dc50",
   "metadata": {},
   "outputs": [],
   "source": []
  }
 ],
 "metadata": {
  "kernelspec": {
   "display_name": "Python 3 (ipykernel)",
   "language": "python",
   "name": "python3"
  },
  "language_info": {
   "codemirror_mode": {
    "name": "ipython",
    "version": 3
   },
   "file_extension": ".py",
   "mimetype": "text/x-python",
   "name": "python",
   "nbconvert_exporter": "python",
   "pygments_lexer": "ipython3",
   "version": "3.11.5"
  }
 },
 "nbformat": 4,
 "nbformat_minor": 5
}
